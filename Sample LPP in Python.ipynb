{
 "cells": [
  {
   "cell_type": "markdown",
   "metadata": {},
   "source": [
    "## Problem\n",
    "\n",
    "A store has requested a manufacturer to produce pants and sports jackets.\n",
    "\n",
    "For materials, the manufacturer has 750 m ^2 of cotton textile and 1000 m^2 of polyester. Every pair of trousers (1 unit) needs 1 m^2 of cotton and 2 m ^2 of polyester. Every jacket needs 1.5 m ^2 of cotton and 1 m^2 of polyester. The price of the trousers is fixed at £50 and the jacket, £40. What is the number of trousers and jackets that the manufacturer must give to the stores so that these items obtain a maximum sale?\n",
    "\n",
    "## Solution\n",
    "\n",
    "### Step 1 - Define Decision Variables\n",
    "\n",
    "| Item       |  Variable  |\n",
    "|------------|:----------:|\n",
    "| Trousers   |    x       | \n",
    "| Jackets    |    y       | \n",
    "\n",
    "### Step 2 - Constraints\n",
    "\n",
    "\n",
    "| Material   |  Trousers  |  Jackets  | Available Quantity |\n",
    "|------------|:----------:|----------:|-------------------:|\n",
    "| Cotton     |    1       | 1.5       | 750                |\n",
    "| Polyester  |    2       | 1         | 1000               |\n",
    "\n",
    "1) Cotton Constraint    - 1 * x + 1.5 * y <= 750\n",
    "2) Polyester Constraint - 2 * x + 1 * y   <= 1000\n",
    "3) x, y should be integers\n",
    "\n",
    "### Step 3 - Objective Function\n",
    "\n",
    "Price of the Trousers is £50 and the jacket, £40\n",
    "\n",
    "Maximize - 50 * x + 40 * y\n",
    "\n",
    "### Code"
   ]
  },
  {
   "cell_type": "code",
   "execution_count": 5,
   "metadata": {},
   "outputs": [
    {
     "data": {
      "text/plain": [
       "small-problem:\n",
       "MAXIMIZE\n",
       "50*x + 40*y + 0\n",
       "SUBJECT TO\n",
       "cotton_constraint: x + 1.5 y <= 750\n",
       "\n",
       "polyester_constraint: 2 x + y <= 1000\n",
       "\n",
       "VARIABLES\n",
       "x Continuous\n",
       "y Continuous"
      ]
     },
     "execution_count": 5,
     "metadata": {},
     "output_type": "execute_result"
    }
   ],
   "source": [
    "from pulp import LpMaximize, LpProblem, LpStatus, lpSum, LpVariable\n",
    "\n",
    "# Create the model\n",
    "model = LpProblem(name=\"small-problem\", sense=LpMaximize)\n",
    "\n",
    "# Initialize the decision variables\n",
    "x = LpVariable(name=\"x\", lowBound=0)\n",
    "y = LpVariable(name=\"y\", lowBound=0)\n",
    "\n",
    "# Add the constraints to the model\n",
    "model += (1 * x + 1.5 * y <= 750, \"cotton_constraint\")\n",
    "model += (2 * x + 1 * y <= 1000, \"polyester_constraint\")\n",
    "\n",
    "# Add the objective function to the model\n",
    "obj_func = 50 * x + 40 * y\n",
    "model += obj_func\n",
    "\n",
    "model"
   ]
  },
  {
   "cell_type": "code",
   "execution_count": 6,
   "metadata": {},
   "outputs": [
    {
     "name": "stdout",
     "output_type": "stream",
     "text": [
      "x: 375.0\n",
      "y: 250.0\n",
      "cotton_constraint: 0.0\n",
      "polyester_constraint: 0.0\n",
      "objective: 28750.0\n"
     ]
    }
   ],
   "source": [
    "# Solve the problem\n",
    "status = model.solve()\n",
    "\n",
    "for var in model.variables():\n",
    "    print(f\"{var.name}: {var.value()}\")\n",
    "\n",
    "for name, constraint in model.constraints.items():\n",
    "    print(f\"{name}: {constraint.value()}\")\n",
    "\n",
    "print(f\"objective: {model.objective.value()}\")"
   ]
  }
 ],
 "metadata": {
  "kernelspec": {
   "display_name": "Python 3.9.0 64-bit",
   "language": "python",
   "name": "python3"
  },
  "language_info": {
   "codemirror_mode": {
    "name": "ipython",
    "version": 3
   },
   "file_extension": ".py",
   "mimetype": "text/x-python",
   "name": "python",
   "nbconvert_exporter": "python",
   "pygments_lexer": "ipython3",
   "version": "3.9.0"
  },
  "orig_nbformat": 4,
  "vscode": {
   "interpreter": {
    "hash": "81794d4967e6c3204c66dcd87b604927b115b27c00565d3d43f05ba2f3a2cb0d"
   }
  }
 },
 "nbformat": 4,
 "nbformat_minor": 2
}
